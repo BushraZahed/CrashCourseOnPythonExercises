{
 "cells": [
  {
   "cell_type": "markdown",
   "id": "5431302f-45e4-4f4d-a32d-00144f6fabdd",
   "metadata": {},
   "source": [
    "# Python code exercises from the course Crash course on python in Coursera\n",
    "## https://www.coursera.org/learn/python-crash-course?specialization=google-it-automation\n",
    "## Week 2"
   ]
  },
  {
   "cell_type": "code",
   "execution_count": 6,
   "id": "cebeb42a-4da6-4705-ad8e-aa0c7f6ec67f",
   "metadata": {},
   "outputs": [
    {
     "name": "stdout",
     "output_type": "stream",
     "text": [
      "Each person needs to pay: 27.186\n"
     ]
    }
   ],
   "source": [
    "#1\n",
    "#In this scenario, two friends are eating dinner at a restaurant. The bill comes in the amount of 47.28 dollars. \n",
    "#The friends decide to split the bill evenly between them, after adding 15% tip for the service. Calculate the tip, the total\n",
    "# amount to pay, and each friend's share, then output a message saying \"Each person needs to pay: \" followed by the resulting number.\n",
    "\n",
    "each_share = (47.28 + 47.28 * 0.15) /2\n",
    "print(\"Each person needs to pay: \" + str(each_share))"
   ]
  },
  {
   "cell_type": "code",
   "execution_count": 7,
   "id": "483d57fa-4793-4a78-ac58-172cab91f4e9",
   "metadata": {},
   "outputs": [
    {
     "name": "stdout",
     "output_type": "stream",
     "text": [
      "1.0\n"
     ]
    }
   ],
   "source": [
    "#2\n",
    "#This code is supposed to take two numbers, divide one by another so that the result is equal to 1, \n",
    "#and display the result on the screen. Unfortunately, there is an error in the code. Find the error and fix it, \n",
    "#so that the output is correct.\n",
    "\n",
    "numerator = 10\n",
    "denominator = 10\n",
    "result = numerator / denominator\n",
    "print(result)"
   ]
  },
  {
   "cell_type": "code",
   "execution_count": 8,
   "id": "2cee9387-7e3b-45da-96b2-bdfc735c4ee4",
   "metadata": {},
   "outputs": [
    {
     "name": "stdout",
     "output_type": "stream",
     "text": [
      "How do you like Python so far?\n"
     ]
    }
   ],
   "source": [
    "#3\n",
    "# Combine the variables to display the sentence \"How do you like Python so far?\" \n",
    "word1 = \"How \"\n",
    "word2 = \"do \"\n",
    "word3 = \"you \"\n",
    "word4 = \"like \"\n",
    "word5 = \"Python \"\n",
    "word6 = \"so \"\n",
    "word7 = \"far?\"\n",
    "\n",
    "print(word1+ word2 +word3+ word4 + word5 + word6 +word7)"
   ]
  },
  {
   "cell_type": "code",
   "execution_count": 9,
   "id": "d67e78fc-4969-40f0-9638-5569bd510ab2",
   "metadata": {},
   "outputs": [
    {
     "name": "stdout",
     "output_type": "stream",
     "text": [
      "2 + 2 = 4\n"
     ]
    }
   ],
   "source": [
    "#4\n",
    "#This code is supposed to display \"2 + 2 = 4\" on the screen, but there is an error. \n",
    "#Find the error in the code and fix it, so that the output is correct.\n",
    "print(\"2 + 2 = \" + str(2 + 2))"
   ]
  },
  {
   "cell_type": "code",
   "execution_count": 10,
   "id": "9e7f6d0e-55f2-4fa1-9312-cb4c81534620",
   "metadata": {},
   "outputs": [
    {
     "name": "stdout",
     "output_type": "stream",
     "text": [
      "The distance in kilometers is 88.0\n",
      "The round-trip in kilometers is 176.0\n"
     ]
    }
   ],
   "source": [
    "#5\n",
    "#This function converts miles to kilometers (km).\n",
    "\n",
    "#Complete the function to return the result of the conversion\n",
    "\n",
    "#Call the function to convert the trip distance from miles to kilometers\n",
    "\n",
    "#Fill in the blank to print the result of the conversion\n",
    "\n",
    "#Calculate the round-trip in kilometers by doubling the result, and fill in the blank to print the result\n",
    "\n",
    "# 1) Complete the function to return the result of the conversion\n",
    "def convert_distance(miles):\n",
    "\tkm = miles * 1.6  # approximately 1.6 km in 1 mile\n",
    "\treturn km\n",
    "my_trip_miles = 55\n",
    "\n",
    "# 2) Convert my_trip_miles to kilometers by calling the function above\n",
    "my_trip_km = convert_distance(my_trip_miles)\n",
    "\n",
    "# 3) Fill in the blank to print the result of the conversion\n",
    "print(\"The distance in kilometers is \" + str(my_trip_km))\n",
    "\n",
    "# 4) Calculate the round-trip in kilometers by doubling the result,\n",
    "#    and fill in the blank to print the result\n",
    "print(\"The round-trip in kilometers is \" + str((my_trip_km) * 2))"
   ]
  },
  {
   "cell_type": "code",
   "execution_count": 11,
   "id": "b59cc885-6e60-482e-8d4f-b94711c8ac8b",
   "metadata": {},
   "outputs": [
    {
     "name": "stdout",
     "output_type": "stream",
     "text": [
      "99 100\n"
     ]
    }
   ],
   "source": [
    "#6\n",
    "#This function compares two numbers and returns them in increasing order.\n",
    "\n",
    "#Fill in the blanks, so the print statement displays the result of the function call in order.\n",
    "\n",
    "#Hint: if a function returns multiple values, don't forget to store these values in multiple variables\n",
    "\n",
    "# This function compares two numbers and returns them\n",
    "# in increasing order.\n",
    "def order_numbers(num1,num2):\n",
    "    if num2 > num1 :\n",
    "        return num1, num2\n",
    "    else:\n",
    "        return num2, num1\n",
    "# 1) Fill in the blanks so the print statement displays the result\n",
    "#    of the function call\n",
    "smaller, bigger = order_numbers(100, 99)\n",
    "print(smaller, bigger)"
   ]
  },
  {
   "cell_type": "code",
   "execution_count": 14,
   "id": "64cf00c9-50ca-4adf-acd6-24de1474a25a",
   "metadata": {},
   "outputs": [
    {
     "name": "stdout",
     "output_type": "stream",
     "text": [
      "Hello Kay. Your lucky number is 27\n",
      "Hello Cameron. Your lucky number is 63\n"
     ]
    }
   ],
   "source": [
    "#7\n",
    "#Let's revisit our lucky_number function. We want to change it, so that instead of printing the message, \n",
    "#it returns the message. This way, the calling line can print the message, \n",
    "#or do something else with it if needed. Fill in the blanks to complete the code to make it work.\n",
    "def lucky_number(name):\n",
    "  number = len(name) * 9\n",
    "  msg = \"Hello \" + name + \". Your lucky number is \" + str(number)\n",
    "  return msg\n",
    "    \n",
    "print(lucky_number(\"Kay\"))\n",
    "print(lucky_number(\"Cameron\"))"
   ]
  },
  {
   "cell_type": "code",
   "execution_count": 15,
   "id": "6ab0bd4d-b453-4f95-bd63-b17e59a5b498",
   "metadata": {},
   "outputs": [
    {
     "name": "stdout",
     "output_type": "stream",
     "text": [
      "Welcome back Taylor!\n",
      "Hello there, John\n"
     ]
    }
   ],
   "source": [
    "#8\n",
    "#Complete the script by filling in the missing parts. The function receives a name, then returns a greeting based on whether or not that name \n",
    "#is \"Taylor\".\n",
    "def greeting(name):\n",
    "  if name == \"Taylor\":\n",
    "    return \"Welcome back Taylor!\"\n",
    "  else:\n",
    "    return \"Hello there, \" + name\n",
    "\n",
    "print(greeting(\"Taylor\"))\n",
    "print(greeting(\"John\"))"
   ]
  },
  {
   "cell_type": "code",
   "execution_count": 16,
   "id": "4736b067-d49d-453b-93c6-96b11b78b877",
   "metadata": {},
   "outputs": [
    {
     "name": "stdout",
     "output_type": "stream",
     "text": [
      "4096\n",
      "4096\n",
      "8192\n",
      "8192\n"
     ]
    }
   ],
   "source": [
    "#9\n",
    "#If a filesystem has a block size of 4096 bytes, this means that a file comprised of \n",
    "#only one byte will still use 4096 bytes of storage. A file made up of 4097 bytes will use 4096*2=8192 bytes of storage. \n",
    "#Knowing this, can you fill in the gaps in the calculate_storage function below,\n",
    "#which calculates the total number of bytes needed to store a file of a given size?\n",
    "def calculate_storage(filesize):\n",
    "    block_size = 4096\n",
    "    # Use floor division to calculate how many blocks are fully occupied\n",
    "    full_blocks = filesize // block_size\n",
    "    # Use the modulo operator to check whether there's any remainder\n",
    "    partial_block_remainder = filesize % block_size\n",
    "    # Depending on whether there's a remainder or not, return\n",
    "    # the total number of bytes required to allocate enough blocks\n",
    "    # to store your data.\n",
    "    if partial_block_remainder > 0:\n",
    "        return block_size *(full_blocks + 1)\n",
    "    return full_blocks * block_size\n",
    "\n",
    "print(calculate_storage(1))    # Should be 4096\n",
    "print(calculate_storage(4096)) # Should be 4096\n",
    "print(calculate_storage(4097)) # Should be 8192\n",
    "print(calculate_storage(6000)) # Should be 8192"
   ]
  },
  {
   "cell_type": "code",
   "execution_count": 17,
   "id": "6c4dd23e-eb57-4cf7-bf9d-c26db33c6803",
   "metadata": {},
   "outputs": [
    {
     "name": "stdout",
     "output_type": "stream",
     "text": [
      "#0000ff\n",
      "unknown\n",
      "#ff0000\n",
      "unknown\n",
      "#00ff00\n",
      "unknown\n"
     ]
    }
   ],
   "source": [
    "#10\n",
    "#Complete the function by filling in the missing parts. The color_translator function receives the name of a color, then prints its \n",
    "#hexadecimal value. Currently, it only supports the three additive primary colors (red, green, blue), so it returns \"unknown\" for all\n",
    "#other colors.\n",
    "def color_translator(color):\n",
    "    if color == \"red\":\n",
    "        hex_color = \"#ff0000\"\n",
    "    elif color == \"green\":\n",
    "        hex_color = \"#00ff00\"\n",
    "    elif color == \"blue\":\n",
    "        hex_color = \"#0000ff\"\n",
    "    else:\n",
    "        hex_color = \"unknown\"\n",
    "    return hex_color\n",
    "print(color_translator(\"blue\")) # Should be #0000ff\n",
    "print(color_translator(\"yellow\")) # Should be unknown\n",
    "print(color_translator(\"red\")) # Should be #ff0000\n",
    "print(color_translator(\"black\")) # Should be unknown\n",
    "print(color_translator(\"green\")) # Should be #00ff00\n",
    "print(color_translator(\"\")) # Should be unknown"
   ]
  },
  {
   "cell_type": "code",
   "execution_count": 18,
   "id": "dfa72b94-e10f-4cad-83b9-d73b06e1d755",
   "metadata": {},
   "outputs": [
    {
     "name": "stdout",
     "output_type": "stream",
     "text": [
      "Pass\n",
      "Fail\n",
      "Pass\n",
      "Pass\n",
      "Top Score\n",
      "Fail\n"
     ]
    }
   ],
   "source": [
    "#11\n",
    "#Students in a class receive their grades as Pass/Fail. Scores of 60 or more (out of 100) mean that the grade is \"Pass\".\n",
    "#For lower scores, the grade is \"Fail\". In addition, scores above 95 (not included) are graded as \n",
    "#\"Top Score\". Fill in this function so that it returns the proper grade.\n",
    "\n",
    "def exam_grade(score):\n",
    "    if score > 95:\n",
    "        grade = \"Top Score\"\n",
    "    elif score >= 60:\n",
    "        grade = \"Pass\"\n",
    "    else:\n",
    "        grade = \"Fail\"\n",
    "    return grade\n",
    "\n",
    "print(exam_grade(65)) # Should be Pass\n",
    "print(exam_grade(55)) # Should be Fail\n",
    "print(exam_grade(60)) # Should be Pass\n",
    "print(exam_grade(95)) # Should be Pass\n",
    "print(exam_grade(100)) # Should be Top Score\n",
    "print(exam_grade(0)) # Should be Fail"
   ]
  },
  {
   "cell_type": "code",
   "execution_count": 21,
   "id": "f8e579ee-b825-40dd-8955-e6cf1e2041ba",
   "metadata": {},
   "outputs": [
    {
     "name": "stdout",
     "output_type": "stream",
     "text": [
      "Name: Hemingway, Ernest\n",
      "Name:Madonna\n",
      "Name:Voltaire\n",
      "\n"
     ]
    }
   ],
   "source": [
    "#12\n",
    "#Complete the body of the format_name function. This function receives the first_name and last_name parameters\n",
    "#and then returns a properly formatted string.\n",
    "\n",
    "def format_name(first_name, last_name):\n",
    "# code goes here\n",
    "    if first_name == \"\" and last_name == \"\":\n",
    "        string = \"\"\n",
    "    elif last_name == \"\":\n",
    "        string = \"Name:\" + first_name\n",
    "    elif first_name == \"\":\n",
    "        string = \"Name:\" + last_name\n",
    "    else:\n",
    "        string = \"Name: \"+last_name +\", \"+first_name\n",
    "    return string \n",
    "\n",
    "print(format_name(\"Ernest\", \"Hemingway\"))\n",
    "# Should return the string \"Name: Hemingway, Ernest\"\n",
    "\n",
    "print(format_name(\"\", \"Madonna\"))\n",
    "# Should return the string \"Name: Madonna\"\n",
    "\n",
    "print(format_name(\"Voltaire\", \"\"))\n",
    "# Should return the string \"Name: Voltaire\"\n",
    "\n",
    "print(format_name(\"\", \"\"))\n",
    "# Should return an empty string"
   ]
  },
  {
   "cell_type": "code",
   "execution_count": 22,
   "id": "54c58dd3-9f01-4054-8611-75911e156139",
   "metadata": {},
   "outputs": [
    {
     "name": "stdout",
     "output_type": "stream",
     "text": [
      "chair\n",
      "beyond\n",
      "notebook\n"
     ]
    }
   ],
   "source": [
    "#13\n",
    "#The longest_word function is used to compare 3 words. It should return the word with the most number of characters\n",
    "#(and the first in the list when they have the same length). Fill in the blank to make this happen.\n",
    "def longest_word(word1, word2, word3):\n",
    "    if len(word1) >= len(word2) and len(word1) >= len(word3):\n",
    "        word = word1\n",
    "    elif len(word2) >= len(word1) and len(word2) >= len(word3):\n",
    "        word = word2\n",
    "    else:\n",
    "        word = word3\n",
    "    return(word)\n",
    "print(longest_word(\"chair\", \"couch\", \"table\"))\n",
    "print(longest_word(\"bed\", \"bath\", \"beyond\"))\n",
    "print(longest_word(\"laptop\", \"notebook\", \"desktop\"))"
   ]
  },
  {
   "cell_type": "code",
   "execution_count": 24,
   "id": "37047b44-b5ac-4142-9f9e-c721e522c2b2",
   "metadata": {},
   "outputs": [
    {
     "name": "stdout",
     "output_type": "stream",
     "text": [
      "10\n"
     ]
    }
   ],
   "source": [
    "#14\n",
    "def sum(x, y):\n",
    "    return(x+y)\n",
    "print(sum(sum(1,2), sum(3,4)))"
   ]
  },
  {
   "cell_type": "code",
   "execution_count": 25,
   "id": "a206d941-25b6-405c-bbb1-7134669f5002",
   "metadata": {},
   "outputs": [
    {
     "name": "stdout",
     "output_type": "stream",
     "text": [
      "0.0\n",
      "0.25\n",
      "0.6666666666666667\n",
      "0.5\n",
      "0\n",
      "0.0\n"
     ]
    }
   ],
   "source": [
    "#15\n",
    "#The fractional_part function divides the numerator by the denominator, and returns just the fractional part (a number between 0 and 1). \n",
    "#Complete the body of the function so that it returns the right number.\n",
    "#Note: Since division by 0 produces an error, if the denominator is 0, the function should return 0 instead of attempting the division.\n",
    "\n",
    "def fractional_part(numerator, denominator):\n",
    "# Operate with numerator and denominator to \n",
    "# keep just the fractional part of the quotient\n",
    "    if denominator==0:\n",
    "        return 0\n",
    "    else:\n",
    "        return (numerator/denominator)%1\n",
    "print(fractional_part(5, 5)) # Should be 0\n",
    "print(fractional_part(5, 4)) # Should be 0.25\n",
    "print(fractional_part(5, 3)) # Should be 0.66...\n",
    "print(fractional_part(5, 2)) # Should be 0.5\n",
    "print(fractional_part(5, 0)) # Should be 0\n",
    "print(fractional_part(0, 5)) # Should be 0"
   ]
  },
  {
   "cell_type": "code",
   "execution_count": null,
   "id": "1e2b41f6-4936-4296-9be2-1be42035fb65",
   "metadata": {},
   "outputs": [],
   "source": []
  }
 ],
 "metadata": {
  "kernelspec": {
   "display_name": "Python 3 (ipykernel)",
   "language": "python",
   "name": "python3"
  },
  "language_info": {
   "codemirror_mode": {
    "name": "ipython",
    "version": 3
   },
   "file_extension": ".py",
   "mimetype": "text/x-python",
   "name": "python",
   "nbconvert_exporter": "python",
   "pygments_lexer": "ipython3",
   "version": "3.8.8"
  }
 },
 "nbformat": 4,
 "nbformat_minor": 5
}
