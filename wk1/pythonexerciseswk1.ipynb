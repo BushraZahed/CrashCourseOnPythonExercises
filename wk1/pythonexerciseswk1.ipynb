{
 "cells": [
  {
   "cell_type": "markdown",
   "id": "9b7af040-43cb-423c-96fd-d1c021fb8f3f",
   "metadata": {},
   "source": [
    "# Python code exercises from the course Crash course on python in Coursera\n",
    "## https://www.coursera.org/learn/python-crash-course?specialization=google-it-automation"
   ]
  },
  {
   "cell_type": "markdown",
   "id": "4d4daa04-a827-44be-8801-b0325c668f8a",
   "metadata": {},
   "source": [
    "# Week 1"
   ]
  },
  {
   "cell_type": "code",
   "execution_count": 2,
   "id": "f82b2433-209f-4384-b414-93a59a100a19",
   "metadata": {},
   "outputs": [
    {
     "name": "stdout",
     "output_type": "stream",
     "text": [
      "My first Python program\n"
     ]
    }
   ],
   "source": [
    "#1.\n",
    "#Fill in the correct Python command to put “My first Python program” onto the screen.\n",
    "\n",
    "print(\"My first Python program\")"
   ]
  },
  {
   "cell_type": "code",
   "execution_count": 7,
   "id": "bd00a97e-3254-4324-9d14-cf1ba2d8bb48",
   "metadata": {},
   "outputs": [
    {
     "name": "stdout",
     "output_type": "stream",
     "text": [
      "Have a nice day\n"
     ]
    }
   ],
   "source": [
    "#2. \n",
    "#Convert this Bash command into Python: echo Have a nice day\n",
    "\n",
    "print(\"Have a nice day\")"
   ]
  },
  {
   "cell_type": "code",
   "execution_count": 8,
   "id": "544d9b3b-cf6e-40b5-9dc4-e505a18b87fd",
   "metadata": {},
   "outputs": [
    {
     "name": "stdout",
     "output_type": "stream",
     "text": [
      "This is fun!\n",
      "This is fun!\n",
      "This is fun!\n",
      "This is fun!\n",
      "This is fun!\n"
     ]
    }
   ],
   "source": [
    "#3\n",
    "#Fill in the correct Python commands to put “This is fun!” onto the screen 5 times. \n",
    "for i in range(5):\n",
    "  print(\"This is fun!\")"
   ]
  },
  {
   "cell_type": "code",
   "execution_count": 10,
   "id": "a2854079-73e8-4071-88fa-37d2ff43903e",
   "metadata": {},
   "outputs": [
    {
     "name": "stdout",
     "output_type": "stream",
     "text": [
      "0\n",
      "1\n",
      "2\n",
      "3\n",
      "4\n",
      "5\n",
      "6\n",
      "7\n",
      "8\n",
      "9\n"
     ]
    }
   ],
   "source": [
    "#4\n",
    "# write the Python code snippet that corresponds to the following Javascript snippet:\n",
    "#for (let i = 0; i < 10; i++) { \n",
    "    #console.log(i);\n",
    "   # }\n",
    "for i in range(10):\n",
    "    print(i)"
   ]
  },
  {
   "cell_type": "code",
   "execution_count": 11,
   "id": "4623aa95-308f-4f9d-9d8f-4dee38276b14",
   "metadata": {},
   "outputs": [
    {
     "name": "stdout",
     "output_type": "stream",
     "text": [
      "Programming in Python is fun!\n"
     ]
    }
   ],
   "source": [
    "#5.\n",
    "#Output a message that says \"Programming in Python is fun!\" to the screen.\n",
    "print(\"Programming in Python is fun!\")"
   ]
  },
  {
   "cell_type": "code",
   "execution_count": 12,
   "id": "27a6a547-7ff3-4a84-b2aa-e086a3c4f2f9",
   "metadata": {},
   "outputs": [
    {
     "name": "stdout",
     "output_type": "stream",
     "text": [
      "1.618033988749895\n"
     ]
    }
   ],
   "source": [
    "#6.\n",
    "ratio = (1 + 5**(1/2)) / 2\n",
    "print(ratio)\n",
    "\n",
    "\n"
   ]
  },
  {
   "cell_type": "code",
   "execution_count": 13,
   "id": "cca707b3-e253-4f0e-bde3-8c2cb36d8887",
   "metadata": {},
   "outputs": [
    {
     "name": "stdout",
     "output_type": "stream",
     "text": [
      "Yellow is the color of sunshine\n"
     ]
    }
   ],
   "source": [
    "#7\n",
    "color =\"Yellow\"\n",
    "thing = \"sunshine\"\n",
    "print(color + \" is the color of \" + thing)"
   ]
  },
  {
   "cell_type": "code",
   "execution_count": 14,
   "id": "ba657e32-ff78-48b7-b4fc-5efb255db01c",
   "metadata": {},
   "outputs": [
    {
     "name": "stdout",
     "output_type": "stream",
     "text": [
      "604800\n"
     ]
    }
   ],
   "source": [
    "#8\n",
    "#Keeping in mind there are 86400 seconds per day, write a program that calculates how many seconds there are in a week, if a week is 7 days.  Print the result on the screen.\n",
    "#Note: Your result should be in the format of just a number, not a sentence.\n",
    "print(7 * 86400)"
   ]
  },
  {
   "cell_type": "code",
   "execution_count": 15,
   "id": "b8789bc6-4042-4352-8cce-db7fa3e0b103",
   "metadata": {},
   "outputs": [
    {
     "name": "stdout",
     "output_type": "stream",
     "text": [
      "308915776\n"
     ]
    }
   ],
   "source": [
    "#9\n",
    "#Use Python to calculate how many different passwords can be formed with 6 lower case English letters.  \n",
    "#For a 1 letter password, there would be 26 possibilities.  For a 2 letter password, each letter is independent of the other, \n",
    "#so there would be 26 times 26 possibilities.  \n",
    "#Using this information, print the amount of possible passwords that can be formed with 6 letters.\n",
    "print(26 ** 6)"
   ]
  },
  {
   "cell_type": "code",
   "execution_count": 16,
   "id": "83954416-0fae-41ee-95b8-0855f1548ea8",
   "metadata": {},
   "outputs": [
    {
     "name": "stdout",
     "output_type": "stream",
     "text": [
      "33554432.0\n"
     ]
    }
   ],
   "source": [
    "#10\n",
    "#Most hard drives are divided into sectors of 512 bytes each.  Our disk has a size of 16 GB. Fill in the blank to calculate how many \n",
    "#sectors the disk has. Note: Your result should be in the format of just a number, not a sentence.\n",
    "disk_size = 16 * 1024 *1024 *1024\n",
    "sector_size = 512\n",
    "no_of_sectors = disk_size / sector_size\n",
    "print(no_of_sectors)"
   ]
  },
  {
   "cell_type": "code",
   "execution_count": null,
   "id": "14e13a57-951f-4a63-8798-83ca5f0efc7b",
   "metadata": {},
   "outputs": [],
   "source": []
  }
 ],
 "metadata": {
  "kernelspec": {
   "display_name": "Python 3 (ipykernel)",
   "language": "python",
   "name": "python3"
  },
  "language_info": {
   "codemirror_mode": {
    "name": "ipython",
    "version": 3
   },
   "file_extension": ".py",
   "mimetype": "text/x-python",
   "name": "python",
   "nbconvert_exporter": "python",
   "pygments_lexer": "ipython3",
   "version": "3.8.8"
  }
 },
 "nbformat": 4,
 "nbformat_minor": 5
}
